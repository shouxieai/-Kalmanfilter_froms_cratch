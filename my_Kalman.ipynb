{
 "cells": [
  {
   "cell_type": "markdown",
   "metadata": {},
   "source": [
    "# 高斯分布下的运动预测"
   ]
  },
  {
   "cell_type": "code",
   "execution_count": 1,
   "metadata": {},
   "outputs": [],
   "source": [
    "# namedtuple \n",
    "from collections import namedtuple\n",
    "gaussian = namedtuple(\"Gaussian\", ['mean', 'var'])\n",
    "gaussian.__repr__ = lambda s: f'𝒩(μ={s[0]:.3f}, 𝜎²={s[1]:.3f})'"
   ]
  },
  {
   "cell_type": "code",
   "execution_count": 2,
   "metadata": {},
   "outputs": [
    {
     "name": "stdout",
     "output_type": "stream",
     "text": [
      "𝒩(μ=3.400, 𝜎²=10.100)\n",
      "𝒩(μ=4.500, 𝜎²=0.040)\n"
     ]
    },
    {
     "data": {
      "text/plain": [
       "(3.4, 3.4, 10.1, 10.1)"
      ]
     },
     "execution_count": 2,
     "metadata": {},
     "output_type": "execute_result"
    }
   ],
   "source": [
    "g1 = gaussian(3.4, 10.1)\n",
    "g2 = gaussian(mean = 4.5, var = 0.2**2)\n",
    "\n",
    "print(g1)\n",
    "print(g2)\n",
    "\n",
    "g1[0] , g1.mean, g1[1], g1.var"
   ]
  },
  {
   "cell_type": "code",
   "execution_count": 3,
   "metadata": {},
   "outputs": [],
   "source": [
    "def predict(pos, movement):\n",
    "    return gaussian(pos.mean + movement.mean, pos.var + movement.var)\n"
   ]
  },
  {
   "cell_type": "code",
   "execution_count": 4,
   "metadata": {},
   "outputs": [
    {
     "data": {
      "text/plain": [
       "𝒩(μ=25.000, 𝜎²=0.530)"
      ]
     },
     "execution_count": 4,
     "metadata": {},
     "output_type": "execute_result"
    }
   ],
   "source": [
    "pos = gaussian(10., 0.2**2)\n",
    "move = gaussian(15., 0.7**2)\n",
    "predict(pos, move)"
   ]
  },
  {
   "cell_type": "markdown",
   "metadata": {},
   "source": [
    "# 高斯分布下的观测"
   ]
  },
  {
   "cell_type": "code",
   "execution_count": 5,
   "metadata": {},
   "outputs": [
    {
     "name": "stdout",
     "output_type": "stream",
     "text": [
      "𝒩(μ=10.000, 𝜎²=0.040)\n",
      "𝒩(μ=11.000, 𝜎²=0.010)\n",
      "𝒩(μ=10.800, 𝜎²=0.008)\n"
     ]
    }
   ],
   "source": [
    "def gaussian_multiply(g1, g2):\n",
    "    mean = (g1.var * g2.mean + g2.var * g1.mean) / (g1.var + g2.var)\n",
    "    variance = (g1.var * g2.var) / (g1.var + g2.var)\n",
    "    return gaussian(mean, variance)\n",
    "\n",
    "def update(prior, likelihood):\n",
    "    posterior = gaussian_multiply(likelihood, prior)\n",
    "    return posterior\n",
    "\n",
    "\n",
    "predicted_pos = gaussian(10.0, 0.2**2)\n",
    "measured_pos = gaussian(11.0, 0.1**2)\n",
    "\n",
    "estimated_pos = update(predicted_pos, measured_pos)\n",
    "\n",
    "print(predicted_pos)\n",
    "print(measured_pos)\n",
    "print(estimated_pos)"
   ]
  },
  {
   "cell_type": "markdown",
   "metadata": {},
   "source": [
    "# 第一个卡尔曼滤波"
   ]
  },
  {
   "cell_type": "code",
   "execution_count": 6,
   "metadata": {},
   "outputs": [],
   "source": [
    "import numpy as np\n",
    "\n",
    "from numpy.random import randn\n",
    "\n",
    "from math import sqrt\n",
    "\n",
    "import matplotlib.pyplot as plt\n",
    "\n",
    "\n",
    "def print_result(predict, update, z, epoch):\n",
    "\n",
    "    # 细节暂不需要深究\n",
    "\n",
    "    # predicted_pos, updated_posclear, measured_pos\n",
    "\n",
    "    predict_template = '{:3.0f} {: 7.3f} {: 8.3f}'\n",
    "\n",
    "    update_template  = '\\t{: .3f}\\t{: 7.3f} {: 7.3f}'\n",
    "\n",
    "    print(predict_template.format(epoch, predict[0], predict[1]),end='\\t')\n",
    "\n",
    "    print(update_template.format(z, update[0], update[1]))\n",
    "\n",
    "\n",
    "def plot_result(epochs ,prior_list, x_list, z_list):\n",
    "\n",
    "    epoch_list = np.arange(epochs)\n",
    "\n",
    "    plt.plot(epoch_list, prior_list, linestyle=':', color='r',label = \"prior/predicted_pos\", lw=2)\n",
    "\n",
    "    plt.plot(epoch_list, x_list, linestyle='-', color='g', label = \"posterior/updated_pos\",lw=2)\n",
    "\n",
    "    plt.plot(epoch_list, z_list, linestyle=':', color='b', label = \"likelihood/measurement\", lw=2)\n",
    "\n",
    "    plt.legend(loc='center left', bbox_to_anchor=(1, 0.5))"
   ]
  },
  {
   "cell_type": "code",
   "execution_count": 7,
   "metadata": {},
   "outputs": [],
   "source": [
    "# np.random.seed(11)\n",
    "\n",
    "# 1. 一些初始的状态和变量的赋值\n",
    "motion_var   = 15.0 # 人的运动方差\n",
    "sensor_var   = 20.0 # GPS的观测方差\n",
    "x            = gaussian(0, 20.**2) # 人的初始位置。因为一开始初始位置很不确认，所以方差给的很大\n",
    "velocity     = 1.0\n",
    "dt           = 1   # 时间单位的最小刻度\n",
    "motion_model = gaussian(velocity, motion_var)\n",
    "\n",
    "# 2. 生成数据\n",
    "zs = []\n",
    "current_x = x.mean\n",
    "for _ in range(10): # 我们让小明走10s，每走1s就看看GPS，并且把这些数据存起来\n",
    "    # 2.1 生成运动数据\n",
    "    v        = velocity  + randn() * motion_var # 每秒（每个时间单位）走多少（有误差）\n",
    "    current_x += v*dt # 将这一秒的位移加上到上一秒的位置 \n",
    "\n",
    "    # 2.2 生成观测数据\n",
    "    measurement = current_x + randn() * sensor_var # GPS对位置的观测（测量）也有误差\n",
    "    zs.append(measurement)"
   ]
  },
  {
   "cell_type": "code",
   "execution_count": 8,
   "metadata": {},
   "outputs": [
    {
     "name": "stdout",
     "output_type": "stream",
     "text": [
      "epoch\tPREDICT\t\t\tUPDATE\n",
      "     \tx      var\t\t  z\t    x      var\n",
      "  0   1.000  415.000\t\t-29.057\t-27.675  19.080\n",
      "  1 -26.675   34.080\t\t 8.786\t -4.328  12.604\n",
      "  2  -3.328   27.604\t\t 12.299\t  5.734  11.597\n",
      "  3   6.734   26.597\t\t 24.256\t 16.736  11.416\n",
      "  4  17.736   26.416\t\t-11.114\t  1.317  11.382\n",
      "  5   2.317   26.382\t\t 20.700\t 12.773  11.376\n",
      "  6  13.773   26.376\t\t 30.684\t 23.391  11.375\n",
      "  7  24.391   26.375\t\t 28.979\t 27.000  11.375\n",
      "  8  28.000   26.375\t\t 74.157\t 54.251  11.375\n",
      "  9  55.251   26.375\t\t 42.244\t 47.854  11.375\n",
      "\n",
      "final estimate:                               47.854\n",
      "actual final estimate:                        76.356\n"
     ]
    },
    {
     "data": {
      "image/png": "[encoded data removed]",
      "text/plain": [
       "<Figure size 432x288 with 1 Axes>"
      ]
     },
     "metadata": {
      "needs_background": "light"
     },
     "output_type": "display_data"
    }
   ],
   "source": [
    "prior_list, x_list, z_list = [], [], []\n",
    "\n",
    "print('epoch\\tPREDICT\\t\\t\\tUPDATE')\n",
    "\n",
    "print('     \\tx      var\\t\\t  z\\t    x      var')\n",
    "\n",
    "for epoch, z in enumerate(zs):\n",
    "    prior = predict(x, motion_model) # 运动预测 # 两个高斯的和\n",
    "    likelihood = gaussian(z, sensor_var)\n",
    "    \n",
    "    x = update(likelihood, prior)    # 结合观测 # 两个高斯的交集\n",
    "\n",
    "    print_result(prior, x, z, epoch)\n",
    "    prior_list.append(prior.mean)\n",
    "    x_list.append(x.mean)\n",
    "    z_list.append(z)\n",
    "\n",
    "\n",
    "print()\n",
    "print(f\"final estimate:       {x.mean:30.3f}\")\n",
    "print(f\"actual final estimate:{current_x:30.3f}\")\n",
    "\n",
    "plot_result(10, prior_list, x_list, z_list)\n",
    "\n",
    "\n"
   ]
  },
  {
   "cell_type": "markdown",
   "metadata": {},
   "source": [
    "# 卡尔曼增益形式下的 predict 和 update"
   ]
  },
  {
   "cell_type": "code",
   "execution_count": 9,
   "metadata": {},
   "outputs": [],
   "source": [
    "def predict(posterior, movement):\n",
    "    # 上一轮的posterior 就是这一轮的一个predict前的位置分布\n",
    "    x, P  = posterior\n",
    "    dx, Q = movement # 一定时间内的位移\n",
    "\n",
    "    # prediction\n",
    "    x = x + dx  # 高斯之和， mean 相加 ，var相加\n",
    "    P = P + Q\n",
    "\n",
    "    return gaussian(x, P)\n",
    "\n",
    "def update(measurement, prior):\n",
    "    x, P = prior\n",
    "    z, R = measurement\n",
    "\n",
    "    y = z - x\n",
    "    K = P / (P + R)\n",
    "\n",
    "    x = x + K * y   # 理解\n",
    "    P = (1 - K) * P # 知道\n",
    "\n",
    "    return gaussian(x, P)\n",
    "\n"
   ]
  },
  {
   "cell_type": "markdown",
   "metadata": {},
   "source": [
    "# 多元高斯下的卡尔曼滤波\n"
   ]
  },
  {
   "cell_type": "code",
   "execution_count": 10,
   "metadata": {},
   "outputs": [],
   "source": [
    "\n",
    "from filterpy.common import Q_discrete_white_noise\n",
    "from kf_book.mkf_internal import plot_all\n",
    "import math\n",
    "from scipy.linalg import inv\n",
    "\n",
    "\n",
    "def compute_person_data(z_var, process_var, count=1, dt=1.):\n",
    "\n",
    "    \"returns track, measurements 1D ndarrays\"\n",
    "\n",
    "    x, vel = 0., 1.\n",
    "\n",
    "    z_std = math.sqrt(z_var) \n",
    "\n",
    "    p_std = math.sqrt(process_var)\n",
    "\n",
    "    xs, zs = [], []\n",
    "\n",
    "    for _ in range(count):\n",
    "\n",
    "        v = vel + (randn() * p_std)\n",
    "\n",
    "        x += v*dt        \n",
    "\n",
    "        xs.append(x)\n",
    "\n",
    "        zs.append(x + randn() * z_std)        \n",
    "\n",
    "    return np.array(xs), np.array(zs)\n",
    "\n",
    "\n",
    "\n",
    "\n",
    "dt = 1.       # 单位时间刻度\n",
    "\n",
    "R_var = 20   # 测量误差的方差 # 生产设备后，进行实验测量而得\n",
    "\n",
    "Q_var = 0.1\n",
    "\n",
    "x = np.array([[10.0, 4.5]]).T\n",
    "\n",
    "P = np.diag([500, 49])\n",
    "\n",
    "F = np.array([[1, dt],\n",
    "\n",
    "              [0,  1]])\n",
    "\n",
    "H = np.array([[1., 0.]])\n",
    "\n",
    "R = np.array([[R_var]])\n",
    "\n",
    "Q = Q_discrete_white_noise(dim=2, dt=dt, var=Q_var) # ???"
   ]
  },
  {
   "cell_type": "code",
   "execution_count": 11,
   "metadata": {},
   "outputs": [
    {
     "data": {
      "image/png": "[encoded data removed]",
      "text/plain": [
       "<Figure size 640x480 with 1 Axes>"
      ]
     },
     "metadata": {
      "needs_background": "light"
     },
     "output_type": "display_data"
    }
   ],
   "source": [
    "\n",
    "\n",
    "count = 50\n",
    "\n",
    "track, zs = compute_person_data(R_var, Q_var, count)\n",
    "\n",
    "xs, cov = [], []\n",
    "\n",
    "for z in zs:\n",
    "    # predict\n",
    "\n",
    "    x = F @ x\n",
    "\n",
    "    P = F @ P @ F.T + Q\n",
    "    \n",
    "    #update\n",
    "\n",
    "    S = H @ P @ H.T + R\n",
    "\n",
    "    K = P @ H.T @ inv(S)\n",
    "\n",
    "    y = z - H @ x\n",
    "\n",
    "    x += K @ y\n",
    "\n",
    "    P = P - K @ H @ P\n",
    "    \n",
    "\n",
    "    xs.append(x)\n",
    "\n",
    "    cov.append(P)\n",
    "\n",
    "\n",
    "xs, cov = np.array(xs), np.array(cov)\n",
    "\n",
    "from matplotlib.pyplot import figure\n",
    "figure(figsize=(8, 6), dpi=80)\n",
    "plot_all(xs[:, 0], track, zs, cov, plot_P=False)"
   ]
  },
  {
   "cell_type": "code",
   "execution_count": null,
   "metadata": {},
   "outputs": [],
   "source": []
  }
 ],
 "metadata": {
  "interpreter": {
   "hash": "49cb93f377a7abe7414b7b0f21fb3017538004a126cf690fb524202736b7fb92"
  },
  "kernelspec": {
   "display_name": "Python 3.8.8 ('base')",
   "language": "python",
   "name": "python3"
  },
  "language_info": {
   "codemirror_mode": {
    "name": "ipython",
    "version": 3
   },
   "file_extension": ".py",
   "mimetype": "text/x-python",
   "name": "python",
   "nbconvert_exporter": "python",
   "pygments_lexer": "ipython3",
   "version": "3.8.8"
  },
  "orig_nbformat": 4
 },
 "nbformat": 4,
 "nbformat_minor": 2
}
